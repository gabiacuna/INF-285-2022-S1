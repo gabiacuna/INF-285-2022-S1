{
  "cells": [
    {
      "cell_type": "markdown",
      "id": "c095fe86",
      "metadata": {
        "id": "c095fe86"
      },
      "source": [
        "<img src=\"http://sct.inf.utfsm.cl/wp-content/uploads/2020/04/logo_di.png\" style=\"width:60%\">\n",
        "<center>\n",
        "    <h1> INF285 - Computación Científica </h1>\n",
        "    <h2> Tarea 0 - Código Base</h2>\n",
        "    <h2> [S]cientific [C]omputing [T]eam </a> </h2>\n",
        "    <h2> Version: 1.01</h2>\n",
        "</center>"
      ]
    },
    {
      "cell_type": "markdown",
      "id": "fa965615",
      "metadata": {
        "id": "fa965615"
      },
      "source": [
        "# No debe utilizar bibliotecas adicionales."
      ]
    },
    {
      "cell_type": "code",
      "execution_count": 1,
      "id": "06ac2f72",
      "metadata": {
        "id": "06ac2f72"
      },
      "outputs": [],
      "source": [
        "import numpy as np\n",
        "import timeit\n",
        "from scipy import optimize"
      ]
    },
    {
      "cell_type": "markdown",
      "id": "d2c10bd1",
      "metadata": {
        "id": "d2c10bd1"
      },
      "source": [
        "# Parte 1"
      ]
    },
    {
      "cell_type": "code",
      "execution_count": 1,
      "id": "096d1f69",
      "metadata": {
        "id": "096d1f69"
      },
      "outputs": [],
      "source": [
        "# Firma pregunta 1: a)\n",
        "'''\n",
        "input:\n",
        "m       : (int) cantidad de filas y columnas a tener en la matriz que se generará.\n",
        "\n",
        "output:\n",
        "matrix  : (ndarray) matriz de números entre 0 y 1  de dimensiones m^2.\n",
        "'''\n",
        "def dummy_matrix_generator(m):\n",
        "    rng = np.random.default_rng()\n",
        "    matrix = []\n",
        "    [matrix.append([rng.integers(2) for _ in range(m)]) for _ in range(m)]\n",
        "    # np.random.random.Generator.integers - https://numpy.org/doc/stable/reference/random/generated/numpy.random.Generator.integers.html#numpy-random-generator-integers\n",
        "    return matrix\n",
        "\n",
        "\n",
        "# Firma pregunta 1: b)\n",
        "'''\n",
        "input:\n",
        "m       : (int) cantidad de filas y columnas a tener en la matriz que se generará.\n",
        "\n",
        "output:\n",
        "matrix  : (ndarray) matriz de números entre 0 y 1  de dimensiones m^2.\n",
        "'''\n",
        "def smart_matrix_generator(m):\n",
        "    matrix = np.random.rand(m, m)\n",
        "    # En le enunciado no especifica si debe ser de numeros entre 0 y 1, en caso de ser asi se deberian descomentar las siguientes dos lienas\n",
        "    # matrix = np.around(matrix)\n",
        "    # matrix = matrix.astype(int)\n",
        "    return matrix\n",
        "\n",
        "\n",
        "# Firma pregunta 1: c)\n",
        "'''\n",
        "input:\n",
        "m       : (int) cantidad de filas y columnas a tener en la matriz que se generará.\n",
        "\n",
        "output:\n",
        "matrix  : (ndarray) matriz de números entre 0 y 1  de dimensiones m^2.\n",
        "'''\n",
        "def dummy_matrix_multiplier(m):\n",
        "    A = dummy_matrix_generator(m)\n",
        "    B = dummy_matrix_generator(m)\n",
        "\n",
        "    matrix = [[0 for _ in range(m)] for _ in range(m)]\n",
        "\n",
        "    # Aplicacion literal de la definicion de multiplicacion de matrices:\n",
        "\n",
        "    for i in range(m):\n",
        "        for j in range(m):\n",
        "            for k in range(m):\n",
        "                matrix[i][j] += A[i][k] * B[k][j]\n",
        "\n",
        "    return matrix\n",
        "\n",
        "\n",
        "# Firma pregunta 1: d)\n",
        "'''\n",
        "input:\n",
        "m      : (int) cantidad de filas y columnas a tener en la matriz que se generará.\n",
        "\n",
        "output:\n",
        "matrix  : (ndarray) matriz de números entre 0 y 1  de dimensiones m^2.\n",
        "'''\n",
        "def smart_matrix_multiplier(m):\n",
        "    A = smart_matrix_generator(m)\n",
        "    B = smart_matrix_generator(m)\n",
        "\n",
        "    # matrix = np.dot(A, B)\n",
        "    matrix = A@B\n",
        "\n",
        "    return matrix\n",
        "\n",
        "\n",
        "# Firma pregunta 1: e)\n",
        "'''\n",
        "input:\n",
        "m       : (int) cantidad de filas y columnas a tener en la matriz que se generará.\n",
        "n       : (int) cantidad de veces que se ejecutará cada una de las funciones (parámetro number en la función timeit).\n",
        "\n",
        "output:\n",
        "best_time  : (tuple) tupla (id, time) donde id corresponde a '1' si \n",
        "             la función es dummy_matrix_generator o '0' si la función es \n",
        "             smart_matrix_generator'; time es el tiempo medido en segundos.\n",
        "'''\n",
        "def simple_is_faster(m, n):\n",
        "\n",
        "    s = timeit.timeit(lambda : smart_matrix_multiplier(m), number=n)\n",
        "    d = timeit.timeit(lambda : dummy_matrix_multiplier(m), number=n)\n",
        "\n",
        "    # El output se dejó en funcion a lo que sale en el enunciado (id = 2 si smart es mas rapido)\n",
        "    if d < s:\n",
        "        best_time = (1, d)\n",
        "    else:\n",
        "        best_time = (2, s)\n",
        "    \n",
        "    return best_time\n"
      ]
    },
    {
      "cell_type": "markdown",
      "id": "a7e452ca",
      "metadata": {
        "id": "a7e452ca"
      },
      "source": [
        "# Parte 2"
      ]
    },
    {
      "cell_type": "code",
      "execution_count": 2,
      "id": "f62625cd",
      "metadata": {
        "id": "f62625cd"
      },
      "outputs": [],
      "source": [
        "# Firma pregunta 2: a)\n",
        "'''\n",
        "input:\n",
        "f       : (callable) función a la cual se le buscará la raíz.\n",
        "a       : (int) límite inferior del intervalo en el cual se buscará la raíz.\n",
        "b       : (int) límite superior del intervalo en el cual se buscará la raíz.\n",
        "\n",
        "output:\n",
        "root    : (float) raíz de la función f en el intervalo [a, b].\n",
        "'''\n",
        "def find_root(f, a, b):\n",
        "    sol = optimize.root_scalar(f=f, bracket=[a, b ], method='bisect')\n",
        "    root = sol.root\n",
        "    return root\n",
        "\n",
        "# Firma pregunta 2: b)\n",
        "'''\n",
        "input:\n",
        "f1      : (callable) función a la cual se le buscará la interseccián con f2.\n",
        "f2      : (callable) función a la cual se le buscará la interseccián con f1.\n",
        "a       : (int) límite inferior del intervalo en el cual se buscará la intersección de f1 con f2.\n",
        "b       : (int) límite superior del intervalo en el cual se buscará la intersección de f1 con f2.\n",
        "\n",
        "output:\n",
        "intersection    : (float) número x_0 tal f1(x_0) = f2(x_0).\n",
        "'''\n",
        "def find_intersection(f1, f2, a, b):\n",
        "    \n",
        "    f_12 = lambda x: f1(x) - f2(x)\n",
        "\n",
        "    root = find_root(f_12, a, b)\n",
        "\n",
        "    intersection = optimize.fsolve(f_12, x0=[root])\n",
        "    \n",
        "    return intersection[0]"
      ]
    },
    {
      "cell_type": "markdown",
      "id": "kDXjeuEOJoR3",
      "metadata": {
        "id": "kDXjeuEOJoR3"
      },
      "source": [
        "### Ejemplo de ejecución y output para la función *find_intersection*:\n",
        "*find_intersection(lambda x:np.cos(x), lambda x:np.sin(x), 0, np.pi)*\n",
        "\n",
        "*0.7853981633988769*"
      ]
    }
  ],
  "metadata": {
    "colab": {
      "collapsed_sections": [],
      "name": "ROL-tarea-0.ipynb",
      "provenance": []
    },
    "kernelspec": {
      "display_name": "Python 3",
      "language": "python",
      "name": "python3"
    },
    "language_info": {
      "codemirror_mode": {
        "name": "ipython",
        "version": 3
      },
      "file_extension": ".py",
      "mimetype": "text/x-python",
      "name": "python",
      "nbconvert_exporter": "python",
      "pygments_lexer": "ipython3",
      "version": "3.9.7"
    }
  },
  "nbformat": 4,
  "nbformat_minor": 5
}
